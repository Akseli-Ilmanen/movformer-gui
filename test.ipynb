{
 "cells": [
  {
   "cell_type": "code",
   "execution_count": 3,
   "id": "9502addf",
   "metadata": {},
   "outputs": [
    {
     "name": "stdout",
     "output_type": "stream",
     "text": [
      "Total number of frames: 1386\n",
      "FPS: 5.00\n",
      "Duration: 277.20 seconds\n"
     ]
    }
   ],
   "source": [
    "import cv2\n",
    "\n",
    "def get_frame_count(video_path):\n",
    "    \"\"\"\n",
    "    Get the total number of frames in a video file.\n",
    "    \n",
    "    Args:\n",
    "        video_path (str): Path to the video file\n",
    "    \n",
    "    Returns:\n",
    "        int: Total number of frames, or -1 if error\n",
    "    \"\"\"\n",
    "    try:\n",
    "        # Open the video file\n",
    "        cap = cv2.VideoCapture(video_path)\n",
    "        \n",
    "        if not cap.isOpened():\n",
    "            print(\"Error: Could not open video file\")\n",
    "            return -1\n",
    "        \n",
    "        # Get the total frame count\n",
    "        frame_count = int(cap.get(cv2.CAP_PROP_FRAME_COUNT))\n",
    "        \n",
    "        # Release the video capture object\n",
    "        cap.release()\n",
    "        \n",
    "        return frame_count\n",
    "    \n",
    "    except Exception as e:\n",
    "        print(f\"Error: {e}\")\n",
    "        return -1\n",
    "\n",
    "# Your video path\n",
    "video_path = r\"C:\\Users\\Admin\\Documents\\Akseli\\bird_video_audio\\output.avi\"\n",
    "\n",
    "# Get frame count\n",
    "num_frames = get_frame_count(video_path)\n",
    "\n",
    "if num_frames != -1:\n",
    "    print(f\"Total number of frames: {num_frames}\")\n",
    "    \n",
    "    # Optional: Get additional video information\n",
    "    cap = cv2.VideoCapture(video_path)\n",
    "    fps = cap.get(cv2.CAP_PROP_FPS)\n",
    "    duration = num_frames / fps if fps > 0 else 0\n",
    "    cap.release()\n",
    "    \n",
    "    print(f\"FPS: {fps:.2f}\")\n",
    "    print(f\"Duration: {duration:.2f} seconds\")\n",
    "else:\n",
    "    print(\"Failed to get frame count\")"
   ]
  },
  {
   "cell_type": "code",
   "execution_count": null,
   "id": "5c75eec8",
   "metadata": {},
   "outputs": [],
   "source": [
    "from audioio import play, load_audio"
   ]
  }
 ],
 "metadata": {
  "kernelspec": {
   "display_name": "behavformer",
   "language": "python",
   "name": "python3"
  },
  "language_info": {
   "codemirror_mode": {
    "name": "ipython",
    "version": 3
   },
   "file_extension": ".py",
   "mimetype": "text/x-python",
   "name": "python",
   "nbconvert_exporter": "python",
   "pygments_lexer": "ipython3",
   "version": "3.13.5"
  }
 },
 "nbformat": 4,
 "nbformat_minor": 5
}
