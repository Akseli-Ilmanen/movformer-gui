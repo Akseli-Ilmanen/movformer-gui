{
 "cells": [
  {
   "cell_type": "code",
   "execution_count": null,
   "id": "4201d152",
   "metadata": {},
   "outputs": [
    {
     "ename": "",
     "evalue": "",
     "output_type": "error",
     "traceback": [
      "\u001b[1;31mThe kernel failed to start as the Python Environment 'datashuttle-env (Python -1.-1.-1)' is no longer available. Consider selecting another kernel or refreshing the list of Python Environments."
     ]
    }
   ],
   "source": [
    "from datashuttle import DataShuttle\n",
    "\n",
    "\n",
    "project = DataShuttle(\"AI_data\")\n",
    "project.upload_custom(\n",
    "    top_level_folder=\"derivatives\",\n",
    "    sub_names=\"all_sub\",\n",
    "    ses_names=\"ses-000_date-20250309\",\n",
    "    datatype=\"behav\",\n",
    "    dry_run=True,\n",
    ")"
   ]
  }
 ],
 "metadata": {
  "kernelspec": {
   "display_name": "datashuttle-env",
   "language": "python",
   "name": "python3"
  },
  "language_info": {
   "codemirror_mode": {
    "name": "ipython",
    "version": 3
   },
   "file_extension": ".py",
   "mimetype": "text/x-python",
   "name": "python",
   "nbconvert_exporter": "python",
   "pygments_lexer": "ipython3",
   "version": "undefined.undefined.undefined"
  }
 },
 "nbformat": 4,
 "nbformat_minor": 5
}
